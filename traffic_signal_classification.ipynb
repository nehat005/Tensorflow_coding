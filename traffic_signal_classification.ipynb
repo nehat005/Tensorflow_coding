{
  "nbformat": 4,
  "nbformat_minor": 0,
  "metadata": {
    "colab": {
      "name": "TrafficSignals_classification.ipynb",
      "provenance": [],
      "authorship_tag": "ABX9TyNsaKX4B+8MIGDqoQHYkPNY",
      "include_colab_link": true
    },
    "kernelspec": {
      "name": "python3",
      "display_name": "Python 3"
    },
    "language_info": {
      "name": "python"
    }
  },
  "cells": [
    {
      "cell_type": "markdown",
      "metadata": {
        "id": "view-in-github",
        "colab_type": "text"
      },
      "source": [
        "<a href=\"https://colab.research.google.com/github/nehat005/Tensorflow_coding/blob/main/traffic_signal_classification.ipynb\" target=\"_parent\"><img src=\"https://colab.research.google.com/assets/colab-badge.svg\" alt=\"Open In Colab\"/></a>"
      ]
    },
    {
      "cell_type": "code",
      "metadata": {
        "id": "iGim2PRtpDz-"
      },
      "source": [
        "import tensorflow as tf\n",
        "import numpy as np\n",
        "from tensorflow import keras\n",
        "import os\n",
        "from skimage import data, io, filters\n",
        "import matplotlib.pyplot as plt"
      ],
      "execution_count": 1,
      "outputs": []
    },
    {
      "cell_type": "code",
      "metadata": {
        "id": "fCt1K6stsLGS"
      },
      "source": [
        "!wget -cq https://btsd.ethz.ch/shareddata/BelgiumTSC/BelgiumTSC_Training.zip\n",
        "!wget -cq https://btsd.ethz.ch/shareddata/BelgiumTSC/BelgiumTSC_Testing.zip\n"
      ],
      "execution_count": 2,
      "outputs": []
    },
    {
      "cell_type": "code",
      "metadata": {
        "id": "s2vE1y3Cs3g6"
      },
      "source": [
        "!unzip BelgiumTSC_Training.zip\n",
        "!unzip BelgiumTSC_Testing.zip"
      ],
      "execution_count": null,
      "outputs": []
    },
    {
      "cell_type": "markdown",
      "metadata": {
        "id": "KjAsZ51wtk4y"
      },
      "source": [
        "# Loading and Exploring The Data\n"
      ]
    },
    {
      "cell_type": "code",
      "metadata": {
        "id": "xQmjciUVtkBA"
      },
      "source": [
        "def load_raw_image_data(dataset_path):\n",
        "  # print(dataset_path)\n",
        "  directories = sorted([directory for directory in os.listdir(dataset_path)\n",
        "           if os.path.isdir(os.path.join(dataset_path, directory))])\n",
        "  images = []\n",
        "  labels = []\n",
        "\n",
        "  for dir in directories: # dir is a string here\n",
        "    #from string to os directory:\n",
        "    # print(dir)\n",
        "    dir_ = os.path.join(dataset_path, dir)\n",
        "    for files in os.listdir(dir_):\n",
        "      if files.endswith(\".ppm\"):\n",
        "        img_data = io.imread(os.path.join(dir_, files))\n",
        "        images.append(img_data)\n",
        "        labels.append(int(dir))\n",
        "\n",
        "  return images, labels\n",
        "\n",
        "\n",
        "\n",
        "ROOT = '/content/'\n",
        "train_path = os.path.join(ROOT, \"Training/\")\n",
        "test_path = os.path.join(ROOT, \"Testing\")\n",
        "train_X, train_Y = load_raw_image_data(train_path)\n",
        "test_X, test_Y = load_raw_image_data(test_path)"
      ],
      "execution_count": 30,
      "outputs": []
    },
    {
      "cell_type": "markdown",
      "source": [
        "## Pre-process images\n",
        "\n",
        "\n",
        "1.   Reshape images to a fixed size\n",
        "2.   Use grayscale\n",
        "\n"
      ],
      "metadata": {
        "id": "VfRDXmdnu7bP"
      }
    },
    {
      "cell_type": "code",
      "metadata": {
        "colab": {
          "base_uri": "https://localhost:8080/"
        },
        "id": "0DlRDwpfBhsP",
        "outputId": "eef5cf93-e12b-4da0-96c2-d890adc0243c"
      },
      "source": [
        "from skimage import transform\n",
        "\n",
        "images28 = [transform.resize(image, (28,28)) for image in train_X]\n",
        "images28 = np.array(images28)\n",
        "print(images28.shape)\n",
        "\n",
        "test_X = np.array([transform.resize(image, (28,28)) for image in test_X])"
      ],
      "execution_count": 31,
      "outputs": [
        {
          "output_type": "stream",
          "name": "stdout",
          "text": [
            "(4575, 28, 28, 3)\n"
          ]
        }
      ]
    },
    {
      "cell_type": "code",
      "metadata": {
        "colab": {
          "base_uri": "https://localhost:8080/",
          "height": 127
        },
        "id": "cCLRsX7423Ph",
        "outputId": "06863619-8c3e-4d9c-bc4e-71a1d3ac7674"
      },
      "source": [
        "from skimage.color import rgb2gray\n",
        "\n",
        "images28_rgb = np.stack([rgb2gray(images28[i]) for i in range(len(images28))])\n",
        "testX_grayscale = np.stack([rgb2gray(test_X[i]) for i in range(len(test_X))])\n",
        "np.random.seed(4)\n",
        "traffic_signs = np.random.choice(images28_rgb.shape[0], 4)\n",
        "\n",
        "for i in range(len(traffic_signs)):\n",
        "  plt.subplot(1, 4, i+1)\n",
        "  plt.axis('off')\n",
        "  plt.imshow(images28_rgb[traffic_signs[i]], cmap = 'gray')\n",
        "  plt.subplots_adjust(wspace = 0.5)\n",
        "\n",
        "plt.show()"
      ],
      "execution_count": 32,
      "outputs": [
        {
          "output_type": "display_data",
          "data": {
            "text/plain": [
              "<Figure size 640x480 with 4 Axes>"
            ],
            "image/png": "[encoded data removed]"
          },
          "metadata": {}
        }
      ]
    },
    {
      "cell_type": "markdown",
      "metadata": {
        "id": "3DD_vN0110be"
      },
      "source": [
        "#Modelling the classifier"
      ]
    },
    {
      "cell_type": "code",
      "metadata": {
        "id": "BUtb-kSf165c",
        "outputId": "c0dc644e-7f5e-4549-dfda-500aa96cc668",
        "colab": {
          "base_uri": "https://localhost:8080/"
        }
      },
      "source": [
        "NUM_CLASSES = len(np.unique(train_Y))\n",
        "print(NUM_CLASSES)\n",
        "\n",
        "y_train = tf.keras.utils.to_categorical(train_Y, num_classes=NUM_CLASSES)\n",
        "y_test = tf.keras.utils.to_categorical(test_Y, num_classes=NUM_CLASSES)"
      ],
      "execution_count": 33,
      "outputs": [
        {
          "output_type": "stream",
          "name": "stdout",
          "text": [
            "62\n"
          ]
        }
      ]
    },
    {
      "cell_type": "code",
      "source": [
        "classifier_model = tf.keras.Sequential()\n",
        "classifier_model.add(tf.keras.layers.Flatten())\n",
        "classifier_model.add(tf.keras.layers.Dense(512, activation=\"relu\"))\n",
        "classifier_model.add(tf.keras.layers.Dense(256, activation=\"relu\"))\n",
        "classifier_model.add(tf.keras.layers.Dense(128, activation=\"relu\"))\n",
        "classifier_model.add(tf.keras.layers.Dense(NUM_CLASSES, activation = 'sigmoid'))\n",
        "\n",
        "classifier_model.compile(optimizer = tf.keras.optimizers.Adam(learning_rate=0.0001), loss = tf.keras.losses.CategoricalCrossentropy(), metrics=['accuracy'])"
      ],
      "metadata": {
        "id": "hb_JtuFuzd3I"
      },
      "execution_count": 35,
      "outputs": []
    },
    {
      "cell_type": "code",
      "source": [
        "print(images28_rgb.shape, y_train.shape)"
      ],
      "metadata": {
        "id": "gfe7cr2tzyLx",
        "outputId": "24c097ea-8dbf-45fc-9358-8140ea47f65b",
        "colab": {
          "base_uri": "https://localhost:8080/"
        }
      },
      "execution_count": 36,
      "outputs": [
        {
          "output_type": "stream",
          "name": "stdout",
          "text": [
            "(4575, 28, 28) (4575, 62)\n"
          ]
        }
      ]
    },
    {
      "cell_type": "code",
      "metadata": {
        "colab": {
          "base_uri": "https://localhost:8080/"
        },
        "id": "F1UZBOt8CGMU",
        "outputId": "076ce36b-2022-4d36-f1f5-0bbd34275d82"
      },
      "source": [
        "classifier_model.fit(images28_rgb, y_train, epochs = 100)"
      ],
      "execution_count": 37,
      "outputs": [
        {
          "output_type": "stream",
          "name": "stdout",
          "text": [
            "Epoch 1/100\n",
            "143/143 [==============================] - 2s 10ms/step - loss: 3.4323 - accuracy: 0.2175\n",
            "Epoch 2/100\n",
            "143/143 [==============================] - 1s 10ms/step - loss: 2.5861 - accuracy: 0.4337\n",
            "Epoch 3/100\n",
            "143/143 [==============================] - 1s 10ms/step - loss: 2.0405 - accuracy: 0.5668\n",
            "Epoch 4/100\n",
            "143/143 [==============================] - 1s 10ms/step - loss: 1.6792 - accuracy: 0.6402\n",
            "Epoch 5/100\n",
            "143/143 [==============================] - 1s 10ms/step - loss: 1.4142 - accuracy: 0.6881\n",
            "Epoch 6/100\n",
            "143/143 [==============================] - 2s 13ms/step - loss: 1.2269 - accuracy: 0.7261\n",
            "Epoch 7/100\n",
            "143/143 [==============================] - 2s 13ms/step - loss: 1.0797 - accuracy: 0.7672\n",
            "Epoch 8/100\n",
            "143/143 [==============================] - 1s 10ms/step - loss: 0.9744 - accuracy: 0.7858\n",
            "Epoch 9/100\n",
            "143/143 [==============================] - 1s 10ms/step - loss: 0.8700 - accuracy: 0.8042\n",
            "Epoch 10/100\n",
            "143/143 [==============================] - 1s 10ms/step - loss: 0.7909 - accuracy: 0.8197\n",
            "Epoch 11/100\n",
            "143/143 [==============================] - 1s 10ms/step - loss: 0.7254 - accuracy: 0.8404\n",
            "Epoch 12/100\n",
            "143/143 [==============================] - 1s 10ms/step - loss: 0.6738 - accuracy: 0.8411\n",
            "Epoch 13/100\n",
            "143/143 [==============================] - 2s 13ms/step - loss: 0.6212 - accuracy: 0.8566\n",
            "Epoch 14/100\n",
            "143/143 [==============================] - 4s 26ms/step - loss: 0.5817 - accuracy: 0.8603\n",
            "Epoch 15/100\n",
            "143/143 [==============================] - 3s 22ms/step - loss: 0.5443 - accuracy: 0.8689\n",
            "Epoch 16/100\n",
            "143/143 [==============================] - 3s 18ms/step - loss: 0.5024 - accuracy: 0.8800\n",
            "Epoch 17/100\n",
            "143/143 [==============================] - 3s 19ms/step - loss: 0.4742 - accuracy: 0.8868\n",
            "Epoch 18/100\n",
            "143/143 [==============================] - 3s 19ms/step - loss: 0.4491 - accuracy: 0.8918\n",
            "Epoch 19/100\n",
            "143/143 [==============================] - 3s 24ms/step - loss: 0.4160 - accuracy: 0.9012\n",
            "Epoch 20/100\n",
            "143/143 [==============================] - 3s 18ms/step - loss: 0.3898 - accuracy: 0.9056\n",
            "Epoch 21/100\n",
            "143/143 [==============================] - 2s 17ms/step - loss: 0.3674 - accuracy: 0.9150\n",
            "Epoch 22/100\n",
            "143/143 [==============================] - 2s 17ms/step - loss: 0.3560 - accuracy: 0.9119\n",
            "Epoch 23/100\n",
            "143/143 [==============================] - 2s 15ms/step - loss: 0.3360 - accuracy: 0.9143\n",
            "Epoch 24/100\n",
            "143/143 [==============================] - 2s 17ms/step - loss: 0.3136 - accuracy: 0.9213\n",
            "Epoch 25/100\n",
            "143/143 [==============================] - 3s 17ms/step - loss: 0.2971 - accuracy: 0.9287\n",
            "Epoch 26/100\n",
            "143/143 [==============================] - 2s 16ms/step - loss: 0.2862 - accuracy: 0.9298\n",
            "Epoch 27/100\n",
            "143/143 [==============================] - 2s 16ms/step - loss: 0.2705 - accuracy: 0.9368\n",
            "Epoch 28/100\n",
            "143/143 [==============================] - 2s 16ms/step - loss: 0.2530 - accuracy: 0.9360\n",
            "Epoch 29/100\n",
            "143/143 [==============================] - 2s 15ms/step - loss: 0.2428 - accuracy: 0.9432\n",
            "Epoch 30/100\n",
            "143/143 [==============================] - 2s 13ms/step - loss: 0.2320 - accuracy: 0.9432\n",
            "Epoch 31/100\n",
            "143/143 [==============================] - 1s 10ms/step - loss: 0.2175 - accuracy: 0.9449\n",
            "Epoch 32/100\n",
            "143/143 [==============================] - 1s 10ms/step - loss: 0.2122 - accuracy: 0.9489\n",
            "Epoch 33/100\n",
            "143/143 [==============================] - 1s 10ms/step - loss: 0.1945 - accuracy: 0.9528\n",
            "Epoch 34/100\n",
            "143/143 [==============================] - 1s 10ms/step - loss: 0.1852 - accuracy: 0.9556\n",
            "Epoch 35/100\n",
            "143/143 [==============================] - 1s 10ms/step - loss: 0.1705 - accuracy: 0.9622\n",
            "Epoch 36/100\n",
            "143/143 [==============================] - 1s 10ms/step - loss: 0.1667 - accuracy: 0.9574\n",
            "Epoch 37/100\n",
            "143/143 [==============================] - 2s 11ms/step - loss: 0.1630 - accuracy: 0.9600\n",
            "Epoch 38/100\n",
            "143/143 [==============================] - 2s 14ms/step - loss: 0.1562 - accuracy: 0.9626\n",
            "Epoch 39/100\n",
            "143/143 [==============================] - 2s 11ms/step - loss: 0.1493 - accuracy: 0.9657\n",
            "Epoch 40/100\n",
            "143/143 [==============================] - 1s 10ms/step - loss: 0.1419 - accuracy: 0.9659\n",
            "Epoch 41/100\n",
            "143/143 [==============================] - 1s 10ms/step - loss: 0.1361 - accuracy: 0.9672\n",
            "Epoch 42/100\n",
            "143/143 [==============================] - 1s 10ms/step - loss: 0.1331 - accuracy: 0.9692\n",
            "Epoch 43/100\n",
            "143/143 [==============================] - 1s 10ms/step - loss: 0.1204 - accuracy: 0.9733\n",
            "Epoch 44/100\n",
            "143/143 [==============================] - 1s 10ms/step - loss: 0.1233 - accuracy: 0.9703\n",
            "Epoch 45/100\n",
            "143/143 [==============================] - 1s 10ms/step - loss: 0.1065 - accuracy: 0.9784\n",
            "Epoch 46/100\n",
            "143/143 [==============================] - 2s 13ms/step - loss: 0.1048 - accuracy: 0.9751\n",
            "Epoch 47/100\n",
            "143/143 [==============================] - 2s 13ms/step - loss: 0.1032 - accuracy: 0.9779\n",
            "Epoch 48/100\n",
            "143/143 [==============================] - 1s 10ms/step - loss: 0.0981 - accuracy: 0.9757\n",
            "Epoch 49/100\n",
            "143/143 [==============================] - 1s 10ms/step - loss: 0.1068 - accuracy: 0.9733\n",
            "Epoch 50/100\n",
            "143/143 [==============================] - 1s 10ms/step - loss: 0.0904 - accuracy: 0.9779\n",
            "Epoch 51/100\n",
            "143/143 [==============================] - 1s 10ms/step - loss: 0.0911 - accuracy: 0.9786\n",
            "Epoch 52/100\n",
            "143/143 [==============================] - 1s 10ms/step - loss: 0.0813 - accuracy: 0.9847\n",
            "Epoch 53/100\n",
            "143/143 [==============================] - 2s 13ms/step - loss: 0.0819 - accuracy: 0.9792\n",
            "Epoch 54/100\n",
            "143/143 [==============================] - 2s 13ms/step - loss: 0.0831 - accuracy: 0.9797\n",
            "Epoch 55/100\n",
            "143/143 [==============================] - 2s 13ms/step - loss: 0.0688 - accuracy: 0.9856\n",
            "Epoch 56/100\n",
            "143/143 [==============================] - 1s 10ms/step - loss: 0.0695 - accuracy: 0.9847\n",
            "Epoch 57/100\n",
            "143/143 [==============================] - 1s 10ms/step - loss: 0.0706 - accuracy: 0.9823\n",
            "Epoch 58/100\n",
            "143/143 [==============================] - 1s 10ms/step - loss: 0.0640 - accuracy: 0.9858\n",
            "Epoch 59/100\n",
            "143/143 [==============================] - 1s 10ms/step - loss: 0.0676 - accuracy: 0.9854\n",
            "Epoch 60/100\n",
            "143/143 [==============================] - 1s 10ms/step - loss: 0.0640 - accuracy: 0.9862\n",
            "Epoch 61/100\n",
            "143/143 [==============================] - 1s 10ms/step - loss: 0.0605 - accuracy: 0.9878\n",
            "Epoch 62/100\n",
            "143/143 [==============================] - 2s 12ms/step - loss: 0.0686 - accuracy: 0.9819\n",
            "Epoch 63/100\n",
            "143/143 [==============================] - 2s 14ms/step - loss: 0.0525 - accuracy: 0.9889\n",
            "Epoch 64/100\n",
            "143/143 [==============================] - 1s 10ms/step - loss: 0.0550 - accuracy: 0.9875\n",
            "Epoch 65/100\n",
            "143/143 [==============================] - 1s 10ms/step - loss: 0.0549 - accuracy: 0.9871\n",
            "Epoch 66/100\n",
            "143/143 [==============================] - 1s 10ms/step - loss: 0.0739 - accuracy: 0.9803\n",
            "Epoch 67/100\n",
            "143/143 [==============================] - 1s 10ms/step - loss: 0.0633 - accuracy: 0.9827\n",
            "Epoch 68/100\n",
            "143/143 [==============================] - 1s 10ms/step - loss: 0.0478 - accuracy: 0.9889\n",
            "Epoch 69/100\n",
            "143/143 [==============================] - 1s 10ms/step - loss: 0.0415 - accuracy: 0.9917\n",
            "Epoch 70/100\n",
            "143/143 [==============================] - 2s 11ms/step - loss: 0.0470 - accuracy: 0.9875\n",
            "Epoch 71/100\n",
            "143/143 [==============================] - 2s 14ms/step - loss: 0.0380 - accuracy: 0.9910\n",
            "Epoch 72/100\n",
            "143/143 [==============================] - 2s 12ms/step - loss: 0.0403 - accuracy: 0.9917\n",
            "Epoch 73/100\n",
            "143/143 [==============================] - 2s 17ms/step - loss: 0.0375 - accuracy: 0.9915\n",
            "Epoch 74/100\n",
            "143/143 [==============================] - 2s 11ms/step - loss: 0.0340 - accuracy: 0.9939\n",
            "Epoch 75/100\n",
            "143/143 [==============================] - 1s 10ms/step - loss: 0.0520 - accuracy: 0.9875\n",
            "Epoch 76/100\n",
            "143/143 [==============================] - 1s 10ms/step - loss: 0.0534 - accuracy: 0.9843\n",
            "Epoch 77/100\n",
            "143/143 [==============================] - 1s 10ms/step - loss: 0.0636 - accuracy: 0.9821\n",
            "Epoch 78/100\n",
            "143/143 [==============================] - 2s 12ms/step - loss: 0.0284 - accuracy: 0.9948\n",
            "Epoch 79/100\n",
            "143/143 [==============================] - 2s 14ms/step - loss: 0.0270 - accuracy: 0.9945\n",
            "Epoch 80/100\n",
            "143/143 [==============================] - 2s 10ms/step - loss: 0.0302 - accuracy: 0.9930\n",
            "Epoch 81/100\n",
            "143/143 [==============================] - 1s 10ms/step - loss: 0.0271 - accuracy: 0.9926\n",
            "Epoch 82/100\n",
            "143/143 [==============================] - 1s 10ms/step - loss: 0.0305 - accuracy: 0.9926\n",
            "Epoch 83/100\n",
            "143/143 [==============================] - 1s 10ms/step - loss: 0.0267 - accuracy: 0.9934\n",
            "Epoch 84/100\n",
            "143/143 [==============================] - 1s 10ms/step - loss: 0.0585 - accuracy: 0.9845\n",
            "Epoch 85/100\n",
            "143/143 [==============================] - 1s 10ms/step - loss: 0.0315 - accuracy: 0.9932\n",
            "Epoch 86/100\n",
            "143/143 [==============================] - 1s 10ms/step - loss: 0.0238 - accuracy: 0.9948\n",
            "Epoch 87/100\n",
            "143/143 [==============================] - 2s 14ms/step - loss: 0.0212 - accuracy: 0.9961\n",
            "Epoch 88/100\n",
            "143/143 [==============================] - 2s 12ms/step - loss: 0.0236 - accuracy: 0.9948\n",
            "Epoch 89/100\n",
            "143/143 [==============================] - 1s 10ms/step - loss: 0.0271 - accuracy: 0.9934\n",
            "Epoch 90/100\n",
            "143/143 [==============================] - 1s 10ms/step - loss: 0.0214 - accuracy: 0.9954\n",
            "Epoch 91/100\n",
            "143/143 [==============================] - 1s 10ms/step - loss: 0.0209 - accuracy: 0.9967\n",
            "Epoch 92/100\n",
            "143/143 [==============================] - 1s 10ms/step - loss: 0.0166 - accuracy: 0.9972\n",
            "Epoch 93/100\n",
            "143/143 [==============================] - 1s 10ms/step - loss: 0.0726 - accuracy: 0.9775\n",
            "Epoch 94/100\n",
            "143/143 [==============================] - 1s 10ms/step - loss: 0.0277 - accuracy: 0.9939\n",
            "Epoch 95/100\n",
            "143/143 [==============================] - 2s 13ms/step - loss: 0.0191 - accuracy: 0.9954\n",
            "Epoch 96/100\n",
            "143/143 [==============================] - 2s 13ms/step - loss: 0.0161 - accuracy: 0.9972\n",
            "Epoch 97/100\n",
            "143/143 [==============================] - 1s 10ms/step - loss: 0.0150 - accuracy: 0.9985\n",
            "Epoch 98/100\n",
            "143/143 [==============================] - 1s 10ms/step - loss: 0.0154 - accuracy: 0.9974\n",
            "Epoch 99/100\n",
            "143/143 [==============================] - 1s 10ms/step - loss: 0.0167 - accuracy: 0.9958\n",
            "Epoch 100/100\n",
            "143/143 [==============================] - 1s 10ms/step - loss: 0.0158 - accuracy: 0.9972\n"
          ]
        },
        {
          "output_type": "execute_result",
          "data": {
            "text/plain": [
              "<keras.src.callbacks.History at 0x7b6ab33151e0>"
            ]
          },
          "metadata": {},
          "execution_count": 37
        }
      ]
    },
    {
      "cell_type": "markdown",
      "source": [
        "## Evaluate on test data"
      ],
      "metadata": {
        "id": "-rvG4lm_2PwM"
      }
    },
    {
      "cell_type": "code",
      "source": [
        "results = classifier_model.evaluate(testX_grayscale, y_test, batch_size=64)\n",
        "print(\"Test loss: {}, Test accuracy: {}\".format(results[0], results[1]))"
      ],
      "metadata": {
        "id": "bliWqBn-1eAw",
        "outputId": "76c18a01-4582-4a9a-f702-65577d38a49b",
        "colab": {
          "base_uri": "https://localhost:8080/"
        }
      },
      "execution_count": 40,
      "outputs": [
        {
          "output_type": "stream",
          "name": "stdout",
          "text": [
            "40/40 [==============================] - 1s 9ms/step - loss: 0.5562 - accuracy: 0.8992\n",
            "Test loss: 0.5561873316764832, Test accuracy: 0.8992063403129578\n"
          ]
        }
      ]
    },
    {
      "cell_type": "code",
      "metadata": {
        "colab": {
          "base_uri": "https://localhost:8080/"
        },
        "id": "OzbGadySMoE4",
        "outputId": "23a167bd-fcd2-4d2e-8553-0f0e91f0c8df"
      },
      "source": [
        "# Generate predictions (probabilities -- the output of the last layer)\n",
        "# on new data using `predict`\n",
        "print(\"Generate predictions for 3 samples\")\n",
        "predictions = classifier_model.predict(testX_grayscale[:3])\n",
        "print(\"predictions shape:\", predictions.shape)\n",
        "print('Predictions: {} True Labels: {}'.format([np.argmax(x) for x in predictions], [np.argmax(x) for x in y_test[:3]]))"
      ],
      "execution_count": 46,
      "outputs": [
        {
          "output_type": "stream",
          "name": "stdout",
          "text": [
            "Generate predictions for 3 samples\n",
            "1/1 [==============================] - 0s 61ms/step\n",
            "predictions shape: (3, 62)\n",
            "Predictions: [0, 1, 0] True Labels: [0, 0, 0]\n"
          ]
        }
      ]
    },
    {
      "cell_type": "code",
      "source": [],
      "metadata": {
        "id": "F2Xh-kw73sG7"
      },
      "execution_count": null,
      "outputs": []
    }
  ]
}